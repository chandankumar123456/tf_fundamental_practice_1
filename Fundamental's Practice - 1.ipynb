{
  "nbformat": 4,
  "nbformat_minor": 0,
  "metadata": {
    "colab": {
      "provenance": []
    },
    "kernelspec": {
      "name": "python3",
      "display_name": "Python 3"
    },
    "language_info": {
      "name": "python"
    }
  },
  "cells": [
    {
      "cell_type": "markdown",
      "source": [
        "#This is a practice on constant, variable, random tensors and shuffling tensors"
      ],
      "metadata": {
        "id": "PAGjhZE0kxlM"
      }
    },
    {
      "cell_type": "markdown",
      "source": [
        "#Creating A Constant Tensor :"
      ],
      "metadata": {
        "id": "dsBssKKgk6Qa"
      }
    },
    {
      "cell_type": "markdown",
      "source": [
        "Importing Required Libraries"
      ],
      "metadata": {
        "id": "Vdf3S-zOlM3x"
      }
    },
    {
      "cell_type": "code",
      "source": [
        "import tensorflow as tf\n",
        "import random as ra\n",
        "print('''Rank v/s Tensor :\n",
        "Scalar -> Rank = 0\n",
        "Vector -> Rank = 1\n",
        "Matrix -> Rank = 2\n",
        "Tensor -> Rank = 3\\n\n",
        "''')\n",
        "print(\"Constant Tensors :\")\n",
        "ct1 = tf.constant(1)\n",
        "ct2 = tf.constant([1, 2])\n",
        "ct3 = tf.constant([\n",
        "    [1, 2],\n",
        "    [3, 4]\n",
        "])\n",
        "ct4 = tf.constant([\n",
        "    [\n",
        "        [1, 2],\n",
        "        [3, 4]\n",
        "    ],\n",
        "    [\n",
        "        [5, 6],\n",
        "        [7, 8]\n",
        "    ]\n",
        "])"
      ],
      "metadata": {
        "colab": {
          "base_uri": "https://localhost:8080/"
        },
        "id": "2HioFjULlUHB",
        "outputId": "5e5fc2b9-f3be-4461-e199-9ae22bae4076"
      },
      "execution_count": 1,
      "outputs": [
        {
          "output_type": "stream",
          "name": "stdout",
          "text": [
            "Rank v/s Tensor :\n",
            "Scalar -> Rank = 0\n",
            "Vector -> Rank = 1\n",
            "Matrix -> Rank = 2\n",
            "Tensor -> Rank = 3\n",
            "\n",
            "\n",
            "Constant Tensors :\n"
          ]
        }
      ]
    },
    {
      "cell_type": "code",
      "source": [
        "print(f\"\"\"Scalar :\n",
        "{ct1}\n",
        "Vector :\n",
        "{ct2}\n",
        "Matrix :\n",
        "{ct3}\n",
        "Tensor :\n",
        "{ct4}\"\"\")"
      ],
      "metadata": {
        "colab": {
          "base_uri": "https://localhost:8080/"
        },
        "id": "Ra3OHIZtmXgl",
        "outputId": "17910eb7-2560-4e11-d22f-fd6ff4524d05"
      },
      "execution_count": 2,
      "outputs": [
        {
          "output_type": "stream",
          "name": "stdout",
          "text": [
            "Scalar :\n",
            "1\n",
            "Vector :\n",
            "[1 2]\n",
            "Matrix :\n",
            "[[1 2]\n",
            " [3 4]]\n",
            "Tensor :\n",
            "[[[1 2]\n",
            "  [3 4]]\n",
            "\n",
            " [[5 6]\n",
            "  [7 8]]]\n"
          ]
        }
      ]
    },
    {
      "cell_type": "markdown",
      "source": [
        "#We Can't Change the values of tf.constant which will raise attribute error"
      ],
      "metadata": {
        "id": "5ZLvoU9Gn1XK"
      }
    },
    {
      "cell_type": "code",
      "source": [
        "try:\n",
        "  ct2[0].assign(29)\n",
        "except Exception as e:\n",
        "  print(\"Exception Occured : \", e)\n"
      ],
      "metadata": {
        "colab": {
          "base_uri": "https://localhost:8080/"
        },
        "id": "J9dGqCq3n98s",
        "outputId": "099ce6dd-3bdd-4b6d-bb9b-aca5f5061291"
      },
      "execution_count": 3,
      "outputs": [
        {
          "output_type": "stream",
          "name": "stdout",
          "text": [
            "Exception Occured :  'tensorflow.python.framework.ops.EagerTensor' object has no attribute 'assign'\n"
          ]
        }
      ]
    },
    {
      "cell_type": "markdown",
      "source": [
        "#Dimensions of a tensor can be found using .ndim"
      ],
      "metadata": {
        "id": "N8OWDF5woTKT"
      }
    },
    {
      "cell_type": "code",
      "source": [
        "print(\"The Deminetions of the Tensors are : \")\n",
        "print(f\"\"\"Scalar = {ct1.ndim}\n",
        "Vector = {ct2.ndim}\n",
        "Matrix = {ct3.ndim}\n",
        "Tensor = {ct4.ndim}\"\"\")"
      ],
      "metadata": {
        "colab": {
          "base_uri": "https://localhost:8080/"
        },
        "id": "QvazSQVWoZwZ",
        "outputId": "d3186816-82d9-44eb-fd43-4bc75944c88c"
      },
      "execution_count": 4,
      "outputs": [
        {
          "output_type": "stream",
          "name": "stdout",
          "text": [
            "The Deminetions of the Tensors are : \n",
            "Scalar = 0\n",
            "Vector = 1\n",
            "Matrix = 2\n",
            "Tensor = 3\n"
          ]
        }
      ]
    },
    {
      "cell_type": "markdown",
      "source": [
        "#WE can know the shape of a tensosr using .shape"
      ],
      "metadata": {
        "id": "IvIAbFr9pFlf"
      }
    },
    {
      "cell_type": "code",
      "source": [
        "print(\"The Shapes of the tensor are : \")\n",
        "print(f\"\"\"Scalar = {ct1.shape}\n",
        "Vector = {ct2.shape}\n",
        "Matrix = {ct3.shape}\n",
        "Tensor = {ct4.shape}\"\"\")"
      ],
      "metadata": {
        "colab": {
          "base_uri": "https://localhost:8080/"
        },
        "id": "qkDc1EEZpJwI",
        "outputId": "249485b8-0fff-4c1d-fed0-1a831af61bc7"
      },
      "execution_count": 5,
      "outputs": [
        {
          "output_type": "stream",
          "name": "stdout",
          "text": [
            "The Shapes of the tensor are : \n",
            "Scalar = ()\n",
            "Vector = (2,)\n",
            "Matrix = (2, 2)\n",
            "Tensor = (2, 2, 2)\n"
          ]
        }
      ]
    },
    {
      "cell_type": "markdown",
      "source": [
        "#We can specify the datatype and size of each element in a tensor using dtype = tf.int32 and so on..."
      ],
      "metadata": {
        "id": "sBRkax7FpeyI"
      }
    },
    {
      "cell_type": "code",
      "source": [
        "print(\"Tensors on required size and data type : (Example used here is tf.float64)\")\n",
        "ct1 = tf.constant([1, 2, 3], dtype = tf.float64)\n",
        "print(f\"\"\"Shape = {ct1.shape}\n",
        "Dimensions = {ct1.ndim}\"\"\")"
      ],
      "metadata": {
        "colab": {
          "base_uri": "https://localhost:8080/"
        },
        "id": "ZfYEKBeLpr_L",
        "outputId": "99399bc4-e145-4bbb-e2f8-e54cbbf4fcea"
      },
      "execution_count": 6,
      "outputs": [
        {
          "output_type": "stream",
          "name": "stdout",
          "text": [
            "Tensors on required size and data type : (Example used here is tf.float64)\n",
            "Shape = (3,)\n",
            "Dimensions = 1\n"
          ]
        }
      ]
    },
    {
      "cell_type": "markdown",
      "source": [
        "#The same can be done using tf.Variable() which is a class and all the operations performed on the tf.constant performed can be here"
      ],
      "metadata": {
        "id": "Hlf1O05-qYXR"
      }
    },
    {
      "cell_type": "code",
      "source": [
        "print(\"Tensorflow Variable's : \")\n",
        "vt1 = tf.Variable(23)\n",
        "vt2 = tf.Variable([1, 2])\n",
        "vt3 = tf.Variable([\n",
        "    [1, 2, 3],\n",
        "    [4, 5, 6],\n",
        "    [7, 8, 9]\n",
        "])\n",
        "vt4 = tf.Variable([\n",
        "    [\n",
        "        [1, 2, 3],\n",
        "        [4, 5, 6],\n",
        "        [7, 8, 9],\n",
        "    ],\n",
        "    [\n",
        "        [9, 8, 7],\n",
        "        [6, 5, 4],\n",
        "        [3, 2, 1]\n",
        "    ]\n",
        "])\n",
        "vt1, vt2, vt3, vt4"
      ],
      "metadata": {
        "colab": {
          "base_uri": "https://localhost:8080/"
        },
        "id": "es5LytvurGzc",
        "outputId": "d725da01-fd6c-4ff5-9747-b5ce189f8e23"
      },
      "execution_count": 7,
      "outputs": [
        {
          "output_type": "stream",
          "name": "stdout",
          "text": [
            "Tensorflow Variable's : \n"
          ]
        },
        {
          "output_type": "execute_result",
          "data": {
            "text/plain": [
              "(<tf.Variable 'Variable:0' shape=() dtype=int32, numpy=23>,\n",
              " <tf.Variable 'Variable:0' shape=(2,) dtype=int32, numpy=array([1, 2], dtype=int32)>,\n",
              " <tf.Variable 'Variable:0' shape=(3, 3) dtype=int32, numpy=\n",
              " array([[1, 2, 3],\n",
              "        [4, 5, 6],\n",
              "        [7, 8, 9]], dtype=int32)>,\n",
              " <tf.Variable 'Variable:0' shape=(2, 3, 3) dtype=int32, numpy=\n",
              " array([[[1, 2, 3],\n",
              "         [4, 5, 6],\n",
              "         [7, 8, 9]],\n",
              " \n",
              "        [[9, 8, 7],\n",
              "         [6, 5, 4],\n",
              "         [3, 2, 1]]], dtype=int32)>)"
            ]
          },
          "metadata": {},
          "execution_count": 7
        }
      ]
    },
    {
      "cell_type": "markdown",
      "source": [
        "#Assigning the values the tf.variable usign .assign"
      ],
      "metadata": {
        "id": "9odpuJ2hs8Xf"
      }
    },
    {
      "cell_type": "code",
      "source": [
        "vt2[0].assign(29)\n",
        "vt2[1].assign(23)\n",
        "vt2"
      ],
      "metadata": {
        "colab": {
          "base_uri": "https://localhost:8080/"
        },
        "id": "aAuOob95tHH1",
        "outputId": "cec60b79-e42b-4546-cc95-287315274a2b"
      },
      "execution_count": 8,
      "outputs": [
        {
          "output_type": "execute_result",
          "data": {
            "text/plain": [
              "<tf.Variable 'Variable:0' shape=(2,) dtype=int32, numpy=array([29, 23], dtype=int32)>"
            ]
          },
          "metadata": {},
          "execution_count": 8
        }
      ]
    },
    {
      "cell_type": "markdown",
      "source": [
        "#Creatng Random Tensors using tf.random.Generator.from_seed(x)"
      ],
      "metadata": {
        "id": "pDyc5m0ktgrT"
      }
    },
    {
      "cell_type": "code",
      "source": [
        "# rt1 = tf.random.Generator.from_seed(42)\n",
        "tf.random.Generator.from_seed(42)  #Here All the random values are different\n",
        "tf1 = tf.random.uniform(shape = (2, 2),)  #tf.random.Generator.from_seed(42) creates a new random number generator with a specific seed (42). This generator is then used to generate random numbers with the tf.random.uniform function.\n",
        "print(tf1)"
      ],
      "metadata": {
        "colab": {
          "base_uri": "https://localhost:8080/"
        },
        "id": "Cy1a2Zcptplq",
        "outputId": "cfd2ef98-925c-434c-fa90-13ada2bc1dc1"
      },
      "execution_count": 37,
      "outputs": [
        {
          "output_type": "stream",
          "name": "stdout",
          "text": [
            "tf.Tensor(\n",
            "[[0.31981647 0.02405655]\n",
            " [0.6667651  0.5552466 ]], shape=(2, 2), dtype=float32)\n"
          ]
        }
      ]
    },
    {
      "cell_type": "markdown",
      "source": [
        "#Another Way of geberating random tensors but not everytime"
      ],
      "metadata": {
        "id": "VrLs6kLmSahf"
      }
    },
    {
      "cell_type": "code",
      "source": [
        "tf.random.set_seed(42)  #By setting seed value the random value will be same\n",
        "tf1 = tf.random.uniform(seed = 49, shape = (2, 2))  #tf.random.set_seed(42) sets the global seed for the TensorFlow random number generator. This seed affects all subsequent random operations, including the tf.random.uniform call.\n",
        "print(tf1)"
      ],
      "metadata": {
        "colab": {
          "base_uri": "https://localhost:8080/"
        },
        "id": "EqY_eX1KSfvA",
        "outputId": "dad70675-bd9a-4cf6-84a3-0280a288fe1e"
      },
      "execution_count": 32,
      "outputs": [
        {
          "output_type": "stream",
          "name": "stdout",
          "text": [
            "tf.Tensor(\n",
            "[[0.28978908 0.40082693]\n",
            " [0.8247118  0.1134932 ]], shape=(2, 2), dtype=float32)\n"
          ]
        }
      ]
    },
    {
      "cell_type": "markdown",
      "source": [
        "#Notes"
      ],
      "metadata": {
        "id": "GxtLMhunT3g6"
      }
    },
    {
      "cell_type": "markdown",
      "source": [
        "Generator vs. Global Seed:\n",
        "\n",
        "In Code 1, tf.random.Generator.from_seed(42) creates a new random number generator with a specific seed (42). This generator is then used to generate random numbers with the tf.random.uniform function.\n",
        "In Code 2, tf.random.set_seed(42) sets the global seed for the TensorFlow random number generator. This seed affects all subsequent random operations, including the tf.random.uniform call.\n",
        "Seed for tf.random.uniform:\n",
        "\n",
        "In Code 1, the seed specified in from_seed(42) is used to initialize the generator, but it doesn't directly affect the tf.random.uniform call. The tf.random.uniform call doesn't have an explicit seed argument.\n",
        "In Code 2, the seed is set globally with tf.random.set_seed(42), and then a specific seed (49) is provided to the tf.random.uniform call using the seed argument.\n",
        "Resulting Random Numbers:\n",
        "\n",
        "Due to the differences in how seeds are set and used, the random numbers generated by tf.random.uniform in these two codes may not be the same even though both use seeds. The specific values of the generated numbers depend on the TensorFlow version and the underlying random number generation implementation.\n",
        "In summary, while both codes involve setting seeds for random number generation, the first one creates a specific generator with a seed, and the second one sets a global seed for TensorFlow and also provides a seed for the specific tf.random.uniform call. The specific behavior and resulting random numbers may vary based on the TensorFlow version and random number generation implementation.\n",
        "\n",
        "\n",
        "\n",
        "\n",
        "\n",
        "\n"
      ],
      "metadata": {
        "id": "ty5zy64aT6Rc"
      }
    },
    {
      "cell_type": "markdown",
      "source": [
        "#Shuffling Tensors"
      ],
      "metadata": {
        "id": "3UUWZZhvUH9w"
      }
    },
    {
      "cell_type": "code",
      "source": [
        "tf.random.set_seed(23)\n",
        "rTensor = tf.random.uniform(shape = (2, 2))\n",
        "#Before Shuffling\n",
        "print(rTensor)\n",
        "#After Shuffling\n",
        "shuffledTensor = tf.random.shuffle(rTensor)\n",
        "print(shuffledTensor)     #It only Shuffles along one dimension"
      ],
      "metadata": {
        "colab": {
          "base_uri": "https://localhost:8080/"
        },
        "id": "y1uO4udFUK9v",
        "outputId": "3eb158f8-da2a-4db5-d948-77ba4e5a7236"
      },
      "execution_count": 46,
      "outputs": [
        {
          "output_type": "stream",
          "name": "stdout",
          "text": [
            "tf.Tensor(\n",
            "[[0.43993807 0.09729016]\n",
            " [0.8235066  0.22273934]], shape=(2, 2), dtype=float32)\n",
            "tf.Tensor(\n",
            "[[0.8235066  0.22273934]\n",
            " [0.43993807 0.09729016]], shape=(2, 2), dtype=float32)\n"
          ]
        }
      ]
    },
    {
      "cell_type": "markdown",
      "source": [
        "#To Check if GPU is Available"
      ],
      "metadata": {
        "id": "VJ36kbxTYfGZ"
      }
    },
    {
      "cell_type": "code",
      "source": [
        "print(tf.config.list_physical_devices('GPU'))"
      ],
      "metadata": {
        "colab": {
          "base_uri": "https://localhost:8080/"
        },
        "id": "uX5Tg11CYiMr",
        "outputId": "aa955b79-459e-48be-d163-473280279123"
      },
      "execution_count": 47,
      "outputs": [
        {
          "output_type": "stream",
          "name": "stdout",
          "text": [
            "[]\n"
          ]
        }
      ]
    }
  ]
}